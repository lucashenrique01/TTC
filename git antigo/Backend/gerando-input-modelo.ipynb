{
 "cells": [
  {
   "cell_type": "code",
   "execution_count": 1,
   "id": "b5f3e94c",
   "metadata": {},
   "outputs": [],
   "source": [
    "import json\n",
    "import boto3\n",
    "from statistics import mode, StatisticsError\n",
    "\n",
    "# Função para ler o arquivo JSON do S3\n",
    "def read_json_from_s3(bucket_name, file_path):\n",
    "    s3 = boto3.client('s3')\n",
    "    response = s3.get_object(Bucket=bucket_name, Key=file_path)\n",
    "    content = response['Body'].read().decode('utf-8')\n",
    "    return json.loads(content)\n",
    "\n",
    "# Função para calcular KDA, ouro por minuto e score de visão\n",
    "def extract_player_stats(match_history):\n",
    "    kdas = []\n",
    "    gold_per_minute = []\n",
    "    vision_scores = []\n",
    "    \n",
    "    for match in match_history:\n",
    "        # print(match['challenges']['kda'])\n",
    "        kda = match['challenges']['kda']\n",
    "        kdas.append(kda)\n",
    "\n",
    "        # Extrair ouro por minuto\n",
    "        gpm = match['challenges']['goldPerMinute']\n",
    "        gold_per_minute.append(gpm)\n",
    "\n",
    "        # Extrair score de visão\n",
    "        vision_score = match['visionScore']\n",
    "        vision_scores.append(vision_score)\n",
    "\n",
    "    return kdas, gold_per_minute, vision_scores\n",
    "\n",
    "# Função para calcular a moda de uma lista (com tratamento de exceção)\n",
    "def calculate_mode(stat_list):\n",
    "    try:\n",
    "        return mode(stat_list)\n",
    "    except StatisticsError:\n",
    "        # Se não houver moda, retorna a média como fallback\n",
    "        return sum(stat_list) / len(stat_list) if len(stat_list) > 0 else None\n",
    "\n",
    "# Função para processar o arquivo JSON e retornar uma linha de saída\n",
    "def process_json(bucket_name, file_path):\n",
    "    # Ler o arquivo JSON do S3\n",
    "    match_data = read_json_from_s3(bucket_name, file_path)\n",
    "\n",
    "    # Para cada jogador, calcular as estatísticas\n",
    "    output_rows = []\n",
    "\n",
    "    for player_data in match_data:\n",
    "        match_history = player_data['matchHistory']\n",
    "\n",
    "        # Extrair KDA, ouro por minuto e score de visão\n",
    "        kdas, gpm, vision_scores = extract_player_stats(match_history)\n",
    "\n",
    "        # Calcular a moda para cada estatística\n",
    "        kda_mode = calculate_mode(kdas)\n",
    "        gpm_mode = calculate_mode(gpm)\n",
    "        vision_score_mode = calculate_mode(vision_scores)\n",
    "\n",
    "        # Criar a linha de saída\n",
    "        output_row = [\n",
    "            kda_mode,\n",
    "            gpm_mode,\n",
    "            vision_score_mode\n",
    "        ]\n",
    "        \n",
    "        output_rows.append(output_row)\n",
    "    \n",
    "    return output_rows"
   ]
  },
  {
   "cell_type": "code",
   "execution_count": 2,
   "id": "5736d604",
   "metadata": {
    "scrolled": false
   },
   "outputs": [
    {
     "name": "stderr",
     "output_type": "stream",
     "text": [
      "/usr/local/lib/python3.7/site-packages/boto3/compat.py:82: PythonDeprecationWarning: Boto3 will no longer support Python 3.7 starting December 13, 2023. To continue receiving service updates, bug fixes, and security updates please upgrade to Python 3.8 or later. More information can be found here: https://aws.amazon.com/blogs/developer/python-support-policy-updates-for-aws-sdks-and-tools/\n",
      "  warnings.warn(warning, PythonDeprecationWarning)\n"
     ]
    },
    {
     "name": "stdout",
     "output_type": "stream",
     "text": [
      "[[1, 433.30803097675533, 19], [3, 426.58727064897784, 19], [1, 489.9826178896077, 19.25], [2.6666666666666665, 524.2297062100663, 20.0], [3, 326.4970999927794, 39.95], [2.3636363636363638, 471.69953636674893, 4], [2.5, 398.19929456739226, 30.95], [2.75, 476.4634867820679, 27], [3.2046825396825396, 462.6115483421969, 12], [2, 422.936363195574, 21]]\n"
     ]
    }
   ],
   "source": [
    "bucket_name = 'partida-para-prever'\n",
    "file_path_100 = 'team_100/match_history.json'  # Caminho do arquivo no S3\n",
    "file_path_200 = 'team_200/match_history.json'\n",
    "result_100 = process_json(bucket_name, file_path_100)\n",
    "result_200 = process_json(bucket_name, file_path_200)\n",
    "    \n",
    "# Mostrar a saída no formato desejado (como linhas de uma tabela)\n",
    "# for row in result_azul:\n",
    "#         print(row)\n",
    "# for row in result_vermelho:\n",
    "#         print(row)\n",
    "# print(result_azul)\n",
    "# print(result_vermelho)\n",
    "print(result_100 + result_200)"
   ]
  }
 ],
 "metadata": {
  "kernelspec": {
   "display_name": "Python 3 (ipykernel)",
   "language": "python",
   "name": "python3"
  },
  "language_info": {
   "codemirror_mode": {
    "name": "ipython",
    "version": 3
   },
   "file_extension": ".py",
   "mimetype": "text/x-python",
   "name": "python",
   "nbconvert_exporter": "python",
   "pygments_lexer": "ipython3",
   "version": "3.7.16"
  }
 },
 "nbformat": 4,
 "nbformat_minor": 5
}
