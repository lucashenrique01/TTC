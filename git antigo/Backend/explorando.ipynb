{
 "cells": [
  {
   "cell_type": "code",
   "execution_count": 5,
   "id": "24b8c99e",
   "metadata": {},
   "outputs": [],
   "source": [
    "import boto3\n",
    "import json\n",
    "import pandas as pd\n",
    "\n",
    "def read_json_files_from_s3(bucket_name, prefix=None, max_files=None):\n",
    "    # Inicializa o recurso S3\n",
    "    s3r = boto3.resource('s3')\n",
    "\n",
    "    # Referência ao bucket S3\n",
    "    bucket = s3r.Bucket(bucket_name)\n",
    "\n",
    "    # Armazena os conteúdos dos arquivos JSON\n",
    "    json_files_contents = []\n",
    "\n",
    "    # Variável para contar o número de arquivos processados\n",
    "    file_count = 0\n",
    "\n",
    "    # Itera sobre os objetos no bucket, com o prefixo (se fornecido)\n",
    "    if prefix:\n",
    "        objects = bucket.objects.filter(Prefix=prefix)\n",
    "    else:\n",
    "        objects = bucket.objects.all()\n",
    "\n",
    "    # Processa os arquivos do bucket\n",
    "    for obj in objects:\n",
    "        # Verifica se o arquivo é JSON\n",
    "        if obj.key.endswith('.json'):\n",
    "            # Obtém o conteúdo do arquivo\n",
    "            file_content = obj.get()['Body'].read().decode('utf-8')\n",
    "\n",
    "            # Converte o conteúdo do JSON para um dicionário Python e armazena\n",
    "            json_data = json.loads(file_content)\n",
    "            json_files_contents.append(json_data)  # Armazena como dicionário\n",
    "\n",
    "            # Incrementa o contador de arquivos processados\n",
    "            file_count += 1\n",
    "\n",
    "            # Verifica se atingiu o limite de arquivos\n",
    "            if max_files and file_count >= max_files:\n",
    "                break\n",
    "\n",
    "    # Converte a lista de dicionários em um DataFrame\n",
    "    df = pd.DataFrame(json_files_contents)\n",
    "\n",
    "    return df"
   ]
  },
  {
   "cell_type": "code",
   "execution_count": 10,
   "id": "5e098c79",
   "metadata": {
    "scrolled": true
   },
   "outputs": [],
   "source": [
    "import pandas as pd\n",
    "json_data = read_json_files_from_s3('match-info',max_files=8000)\n",
    "# Combine todos os DataFrames em um único\n",
    "# final_df = pd.concat(json_data, ignore_index=True)\n",
    "\n",
    "# Exiba o DataFrame final\n",
    "# print(json_data)\n"
   ]
  },
  {
   "cell_type": "code",
   "execution_count": 6,
   "id": "9a34348b",
   "metadata": {},
   "outputs": [
    {
     "name": "stdout",
     "output_type": "stream",
     "text": [
      "                                            metadata  \\\n",
      "0  {'dataVersion': '2', 'matchId': 'BR1_271317129...   \n",
      "1  {'dataVersion': '2', 'matchId': 'BR1_271333227...   \n",
      "2  {'dataVersion': '2', 'matchId': 'BR1_271568576...   \n",
      "3  {'dataVersion': '2', 'matchId': 'BR1_272321465...   \n",
      "4  {'dataVersion': '2', 'matchId': 'BR1_272412320...   \n",
      "5  {'dataVersion': '2', 'matchId': 'BR1_272432273...   \n",
      "6  {'dataVersion': '2', 'matchId': 'BR1_272491571...   \n",
      "7  {'dataVersion': '2', 'matchId': 'BR1_272494082...   \n",
      "8  {'dataVersion': '2', 'matchId': 'BR1_272760619...   \n",
      "9  {'dataVersion': '2', 'matchId': 'BR1_272761074...   \n",
      "\n",
      "                                                info  \n",
      "0  {'gameCreation': 1681438038816, 'gameDuration'...  \n",
      "1  {'gameCreation': 1681485266659, 'gameDuration'...  \n",
      "2  {'gameCreation': 1681845237790, 'gameDuration'...  \n",
      "3  {'gameCreation': 1682991351393, 'gameDuration'...  \n",
      "4  {'gameCreation': 1683164234825, 'gameDuration'...  \n",
      "5  {'gameCreation': 1683217775174, 'gameDuration'...  \n",
      "6  {'gameCreation': 1683316658428, 'gameDuration'...  \n",
      "7  {'gameCreation': 1683319852051, 'gameDuration'...  \n",
      "8  {'gameCreation': 1683691655733, 'gameDuration'...  \n",
      "9  {'gameCreation': 1683694039835, 'gameDuration'...  \n"
     ]
    }
   ],
   "source": [
    "print(json_data.head(10))"
   ]
  },
  {
   "cell_type": "code",
   "execution_count": 4,
   "id": "9907eea1",
   "metadata": {},
   "outputs": [],
   "source": [
    "s3r = boto3.resource('s3')\n",
    "bucket = s3r.Bucket('match-info')\n",
    "files_in_bucket = list(bucket.objects.all())"
   ]
  },
  {
   "cell_type": "code",
   "execution_count": 8,
   "id": "394f7657",
   "metadata": {},
   "outputs": [],
   "source": [
    "from io import StringIO"
   ]
  },
  {
   "cell_type": "code",
   "execution_count": 70,
   "id": "9a35b9bd",
   "metadata": {},
   "outputs": [
    {
     "name": "stdout",
     "output_type": "stream",
     "text": [
      "  metadata.dataVersion metadata.matchId  \\\n",
      "0                    2   BR1_2987113206   \n",
      "1                    2   BR1_2987123899   \n",
      "2                    2   BR1_2987149819   \n",
      "3                    2   BR1_2987150145   \n",
      "4                    2   BR1_2987164868   \n",
      "\n",
      "                               metadata.participants info.endOfGameResult  \\\n",
      "0  [kRAwT_AzybMRJgJR7KydsG3Gixq-Liz1Iwdvjp-9DFqNv...         GameComplete   \n",
      "1  [CCYDIq9aKuVM1rkaGIkdaHdFdU8UZGGrhT4gZYMGf1-sE...         GameComplete   \n",
      "2  [2-gM8qWYnXk1tiTAhwrsHBb6jdWhjlr44VpWk6tbjmN9P...         GameComplete   \n",
      "3  [KMKkqg5MZuNMLAVwzQD75-hFf29tepEt8ANjxwlSVTO4_...         GameComplete   \n",
      "4  [ipRZQ_8KM6vARND5qeJQELl02qnVsHtT__rIkY2RJZxd-...         GameComplete   \n",
      "\n",
      "   info.gameCreation  info.gameDuration  info.gameEndTimestamp  info.gameId  \\\n",
      "0      1724032306872                890          1724033249350   2987113206   \n",
      "1      1724034243237               2341          1724036699536   2987123899   \n",
      "2      1724038152150               2287          1724040471130   2987149819   \n",
      "3      1724037189872               2330          1724039580897   2987150145   \n",
      "4      1724041345079               1977          1724043401427   2987164868   \n",
      "\n",
      "  info.gameMode                 info.gameName  info.gameStartTimestamp  \\\n",
      "0          ARAM  teambuilder-match-2987113206            1724032359260   \n",
      "1       CLASSIC  teambuilder-match-2987123899            1724034358140   \n",
      "2       CLASSIC  teambuilder-match-2987149819            1724038184146   \n",
      "3       CLASSIC  teambuilder-match-2987150145            1724037250609   \n",
      "4          ARAM  teambuilder-match-2987164868            1724041424222   \n",
      "\n",
      "  info.gameType info.gameVersion  info.mapId  \\\n",
      "0  MATCHED_GAME   14.16.609.8277          12   \n",
      "1  MATCHED_GAME   14.16.609.8277          11   \n",
      "2  MATCHED_GAME   14.16.609.8277          11   \n",
      "3  MATCHED_GAME   14.16.609.8277          11   \n",
      "4  MATCHED_GAME   14.16.609.8277          12   \n",
      "\n",
      "                                   info.participants info.platformId  \\\n",
      "0  [{'allInPings': 0, 'assistMePings': 0, 'assist...             BR1   \n",
      "1  [{'allInPings': 0, 'assistMePings': 3, 'assist...             BR1   \n",
      "2  [{'allInPings': 0, 'assistMePings': 0, 'assist...             BR1   \n",
      "3  [{'allInPings': 0, 'assistMePings': 0, 'assist...             BR1   \n",
      "4  [{'allInPings': 0, 'assistMePings': 9, 'assist...             BR1   \n",
      "\n",
      "   info.queueId                                         info.teams  \\\n",
      "0           450  [{'bans': [], 'objectives': {'baron': {'first'...   \n",
      "1           420  [{'bans': [{'championId': 902, 'pickTurn': 1},...   \n",
      "2           420  [{'bans': [{'championId': 360, 'pickTurn': 1},...   \n",
      "3           420  [{'bans': [{'championId': 106, 'pickTurn': 1},...   \n",
      "4           450  [{'bans': [], 'objectives': {'baron': {'first'...   \n",
      "\n",
      "  info.tournamentCode  \n",
      "0                      \n",
      "1                      \n",
      "2                      \n",
      "3                      \n",
      "4                      \n"
     ]
    }
   ],
   "source": [
    "import boto3\n",
    "import pandas as pd\n",
    "import json\n",
    "\n",
    "# Inicialize a sessão boto3\n",
    "session = boto3.Session()\n",
    "s3 = session.client('s3')\n",
    "\n",
    "\n",
    "# Liste todos os arquivos JSON no bucket/prefixo\n",
    "response = s3.list_objects_v2(Bucket='match-info')\n",
    "response2 = s3.list_objects_v2(Bucket='match-info2')\n",
    "response3 = s3.list_objects_v2(Bucket='match-info3')\n",
    "response4 = s3.list_objects_v2(Bucket='match-info4')\n",
    "\n",
    "# Inicialize uma lista para armazenar os DataFrames\n",
    "dfs = []\n",
    "\n",
    "def teste(content, bucket_name):\n",
    "    # Percorra os arquivos encontrados e leia cada um deles em um DataFrame pandas\n",
    "    for obj in content.get('Contents', []):\n",
    "        key = obj['Key']\n",
    "        if key.endswith('.json'):\n",
    "        # Baixe o arquivo JSON para uma string\n",
    "            file_content = s3.get_object(Bucket=bucket_name, Key=key)['Body'].read().decode('utf-8')\n",
    "        \n",
    "        # Converta a string JSON para um DataFrame pandas\n",
    "            data = json.loads(file_content)\n",
    "            df = pd.json_normalize(data)\n",
    "        \n",
    "        # Adicione o DataFrame à lista\n",
    "            dfs.append(df)\n",
    "\n",
    "teste(response, 'match-info')\n",
    "\n",
    "# Combine todos os DataFrames em um único\n",
    "final_df = pd.concat(dfs, ignore_index=True)\n",
    "\n",
    "# Exiba o DataFrame final\n",
    "print(final_df.head())\n"
   ]
  },
  {
   "cell_type": "code",
   "execution_count": 81,
   "id": "3dc2ee51",
   "metadata": {},
   "outputs": [
    {
     "data": {
      "text/plain": [
       "(2928, 19)"
      ]
     },
     "execution_count": 81,
     "metadata": {},
     "output_type": "execute_result"
    }
   ],
   "source": [
    "final_df.shape"
   ]
  },
  {
   "cell_type": "code",
   "execution_count": null,
   "id": "cbd3c1ad",
   "metadata": {},
   "outputs": [],
   "source": [
    "#puuid #valores #resultado da partida "
   ]
  },
  {
   "cell_type": "code",
   "execution_count": 11,
   "id": "436fe2fa",
   "metadata": {},
   "outputs": [
    {
     "name": "stdout",
     "output_type": "stream",
     "text": [
      "CSV criado e salvo no S3 com sucesso!\n"
     ]
    }
   ],
   "source": [
    "processed_data = []\n",
    "\n",
    "# Itera por cada linha (partida)\n",
    "for index, row in json_data.iterrows():\n",
    "    if 'CLASSIC' in row['info']['gameMode']:\n",
    "#         print(row['info']['gameMode'])\n",
    "        match_data = {}\n",
    "\n",
    "        participants = row['info']['participants']\n",
    "#         print(participants)\n",
    "        teams = row['info']['teams']  \n",
    "        for i, participant in enumerate(participants):\n",
    "#             kills = participant['kills']\n",
    "#             deaths = participant['deaths']\n",
    "#             assists = participant['assists']        \n",
    "\n",
    "            \n",
    "            if 'challenges' in participant:\n",
    "                kda = participant['challenges']['kda']\n",
    "                gold_per_minute = participant['challenges']['goldPerMinute']\n",
    "            \n",
    "            vision_score = participant['visionScore']\n",
    "\n",
    "            match_data[f'player_{i+1}_kda'] = kda\n",
    "            match_data[f'player_{i+1}_gold_per_minute'] = gold_per_minute\n",
    "            match_data[f'player_{i+1}vision_score'] = vision_score\n",
    "\n",
    "        team_100 = next(team for team in teams if team['teamId'] == 100)\n",
    "        match_data['team_100_won'] = 1 if team_100['win'] else 0\n",
    "\n",
    "        processed_data.append(match_data)\n",
    "\n",
    "processed_df = pd.DataFrame(processed_data)\n",
    "\n",
    "csv_buffer = StringIO()\n",
    "processed_df.to_csv(csv_buffer, index=False)\n",
    "\n",
    "s3 = boto3.client('s3')\n",
    "\n",
    "# Nome do bucket e chave (nome do arquivo no S3)\n",
    "bucket_name = 'match-dataset'\n",
    "s3_key = 'matchs.csv'\n",
    "\n",
    "# Salva o CSV no S3\n",
    "s3.put_object(Bucket=bucket_name, Key=s3_key, Body=csv_buffer.getvalue())\n",
    "\n",
    "print(\"CSV criado e salvo no S3 com sucesso!\")"
   ]
  },
  {
   "cell_type": "code",
   "execution_count": 1,
   "id": "1f9ba7c5",
   "metadata": {},
   "outputs": [
    {
     "name": "stderr",
     "output_type": "stream",
     "text": [
      "/usr/local/lib/python3.7/site-packages/boto3/compat.py:82: PythonDeprecationWarning: Boto3 will no longer support Python 3.7 starting December 13, 2023. To continue receiving service updates, bug fixes, and security updates please upgrade to Python 3.8 or later. More information can be found here: https://aws.amazon.com/blogs/developer/python-support-policy-updates-for-aws-sdks-and-tools/\n",
      "  warnings.warn(warning, PythonDeprecationWarning)\n"
     ]
    }
   ],
   "source": [
    "from io import StringIO\n",
    "import boto3\n",
    "import pandas as pd\n",
    "s3_client = boto3.client('s3')"
   ]
  },
  {
   "cell_type": "code",
   "execution_count": 2,
   "id": "1b31b03b",
   "metadata": {},
   "outputs": [],
   "source": [
    " # Baixar o arquivo do S3\n",
    "csv_file = s3_client.get_object(Bucket='match-dataset', Key='matchs.csv')\n",
    "    \n",
    "# Ler o conteúdo do arquivo como uma string\n",
    "csv_content = csv_file['Body'].read().decode('utf-8')\n",
    "    \n",
    " # Converter para um DataFrame usando StringIO\n",
    "df = pd.read_csv(StringIO(csv_content))"
   ]
  },
  {
   "cell_type": "code",
   "execution_count": 3,
   "id": "0bd1bcf5",
   "metadata": {},
   "outputs": [
    {
     "data": {
      "text/html": [
       "<div>\n",
       "<style scoped>\n",
       "    .dataframe tbody tr th:only-of-type {\n",
       "        vertical-align: middle;\n",
       "    }\n",
       "\n",
       "    .dataframe tbody tr th {\n",
       "        vertical-align: top;\n",
       "    }\n",
       "\n",
       "    .dataframe thead th {\n",
       "        text-align: right;\n",
       "    }\n",
       "</style>\n",
       "<table border=\"1\" class=\"dataframe\">\n",
       "  <thead>\n",
       "    <tr style=\"text-align: right;\">\n",
       "      <th></th>\n",
       "      <th>player_1_kda</th>\n",
       "      <th>player_1_gold_per_minute</th>\n",
       "      <th>player_1vision_score</th>\n",
       "      <th>player_2_kda</th>\n",
       "      <th>player_2_gold_per_minute</th>\n",
       "      <th>player_2vision_score</th>\n",
       "      <th>player_3_kda</th>\n",
       "      <th>player_3_gold_per_minute</th>\n",
       "      <th>player_3vision_score</th>\n",
       "      <th>player_4_kda</th>\n",
       "      <th>...</th>\n",
       "      <th>player_8_kda</th>\n",
       "      <th>player_8_gold_per_minute</th>\n",
       "      <th>player_8vision_score</th>\n",
       "      <th>player_9_kda</th>\n",
       "      <th>player_9_gold_per_minute</th>\n",
       "      <th>player_9vision_score</th>\n",
       "      <th>player_10_kda</th>\n",
       "      <th>player_10_gold_per_minute</th>\n",
       "      <th>player_10vision_score</th>\n",
       "      <th>team_100_won</th>\n",
       "    </tr>\n",
       "  </thead>\n",
       "  <tbody>\n",
       "    <tr>\n",
       "      <th>0</th>\n",
       "      <td>0.777778</td>\n",
       "      <td>312.359322</td>\n",
       "      <td>11</td>\n",
       "      <td>1.428571</td>\n",
       "      <td>374.972279</td>\n",
       "      <td>16</td>\n",
       "      <td>1.000000</td>\n",
       "      <td>327.846701</td>\n",
       "      <td>22</td>\n",
       "      <td>0.666667</td>\n",
       "      <td>...</td>\n",
       "      <td>16.000000</td>\n",
       "      <td>443.347430</td>\n",
       "      <td>12</td>\n",
       "      <td>5.666667</td>\n",
       "      <td>431.485156</td>\n",
       "      <td>20</td>\n",
       "      <td>2.222222</td>\n",
       "      <td>364.826857</td>\n",
       "      <td>20</td>\n",
       "      <td>0</td>\n",
       "    </tr>\n",
       "    <tr>\n",
       "      <th>1</th>\n",
       "      <td>0.142857</td>\n",
       "      <td>248.041393</td>\n",
       "      <td>17</td>\n",
       "      <td>1.083333</td>\n",
       "      <td>500.868665</td>\n",
       "      <td>33</td>\n",
       "      <td>1.200000</td>\n",
       "      <td>325.633881</td>\n",
       "      <td>17</td>\n",
       "      <td>1.750000</td>\n",
       "      <td>...</td>\n",
       "      <td>6.000000</td>\n",
       "      <td>394.152972</td>\n",
       "      <td>14</td>\n",
       "      <td>5.000000</td>\n",
       "      <td>410.426203</td>\n",
       "      <td>18</td>\n",
       "      <td>1.625000</td>\n",
       "      <td>295.913241</td>\n",
       "      <td>78</td>\n",
       "      <td>0</td>\n",
       "    </tr>\n",
       "    <tr>\n",
       "      <th>2</th>\n",
       "      <td>0.666667</td>\n",
       "      <td>385.706379</td>\n",
       "      <td>14</td>\n",
       "      <td>1.285714</td>\n",
       "      <td>298.721516</td>\n",
       "      <td>19</td>\n",
       "      <td>2.800000</td>\n",
       "      <td>437.822358</td>\n",
       "      <td>18</td>\n",
       "      <td>1.857143</td>\n",
       "      <td>...</td>\n",
       "      <td>0.000000</td>\n",
       "      <td>165.441295</td>\n",
       "      <td>1</td>\n",
       "      <td>3.000000</td>\n",
       "      <td>492.974074</td>\n",
       "      <td>20</td>\n",
       "      <td>2.500000</td>\n",
       "      <td>278.620869</td>\n",
       "      <td>20</td>\n",
       "      <td>0</td>\n",
       "    </tr>\n",
       "    <tr>\n",
       "      <th>3</th>\n",
       "      <td>0.700000</td>\n",
       "      <td>268.625633</td>\n",
       "      <td>16</td>\n",
       "      <td>0.714286</td>\n",
       "      <td>364.690117</td>\n",
       "      <td>9</td>\n",
       "      <td>1.571429</td>\n",
       "      <td>242.031722</td>\n",
       "      <td>21</td>\n",
       "      <td>0.833333</td>\n",
       "      <td>...</td>\n",
       "      <td>9.666667</td>\n",
       "      <td>563.789817</td>\n",
       "      <td>17</td>\n",
       "      <td>4.000000</td>\n",
       "      <td>337.528628</td>\n",
       "      <td>9</td>\n",
       "      <td>6.000000</td>\n",
       "      <td>482.514843</td>\n",
       "      <td>25</td>\n",
       "      <td>0</td>\n",
       "    </tr>\n",
       "    <tr>\n",
       "      <th>4</th>\n",
       "      <td>4.000000</td>\n",
       "      <td>376.830244</td>\n",
       "      <td>11</td>\n",
       "      <td>10.000000</td>\n",
       "      <td>442.087571</td>\n",
       "      <td>13</td>\n",
       "      <td>3.000000</td>\n",
       "      <td>459.130644</td>\n",
       "      <td>18</td>\n",
       "      <td>6.000000</td>\n",
       "      <td>...</td>\n",
       "      <td>0.750000</td>\n",
       "      <td>274.158177</td>\n",
       "      <td>9</td>\n",
       "      <td>1.500000</td>\n",
       "      <td>378.432570</td>\n",
       "      <td>9</td>\n",
       "      <td>0.833333</td>\n",
       "      <td>229.317978</td>\n",
       "      <td>26</td>\n",
       "      <td>1</td>\n",
       "    </tr>\n",
       "  </tbody>\n",
       "</table>\n",
       "<p>5 rows × 31 columns</p>\n",
       "</div>"
      ],
      "text/plain": [
       "   player_1_kda  player_1_gold_per_minute  player_1vision_score  player_2_kda  \\\n",
       "0      0.777778                312.359322                    11      1.428571   \n",
       "1      0.142857                248.041393                    17      1.083333   \n",
       "2      0.666667                385.706379                    14      1.285714   \n",
       "3      0.700000                268.625633                    16      0.714286   \n",
       "4      4.000000                376.830244                    11     10.000000   \n",
       "\n",
       "   player_2_gold_per_minute  player_2vision_score  player_3_kda  \\\n",
       "0                374.972279                    16      1.000000   \n",
       "1                500.868665                    33      1.200000   \n",
       "2                298.721516                    19      2.800000   \n",
       "3                364.690117                     9      1.571429   \n",
       "4                442.087571                    13      3.000000   \n",
       "\n",
       "   player_3_gold_per_minute  player_3vision_score  player_4_kda  ...  \\\n",
       "0                327.846701                    22      0.666667  ...   \n",
       "1                325.633881                    17      1.750000  ...   \n",
       "2                437.822358                    18      1.857143  ...   \n",
       "3                242.031722                    21      0.833333  ...   \n",
       "4                459.130644                    18      6.000000  ...   \n",
       "\n",
       "   player_8_kda  player_8_gold_per_minute  player_8vision_score  player_9_kda  \\\n",
       "0     16.000000                443.347430                    12      5.666667   \n",
       "1      6.000000                394.152972                    14      5.000000   \n",
       "2      0.000000                165.441295                     1      3.000000   \n",
       "3      9.666667                563.789817                    17      4.000000   \n",
       "4      0.750000                274.158177                     9      1.500000   \n",
       "\n",
       "   player_9_gold_per_minute  player_9vision_score  player_10_kda  \\\n",
       "0                431.485156                    20       2.222222   \n",
       "1                410.426203                    18       1.625000   \n",
       "2                492.974074                    20       2.500000   \n",
       "3                337.528628                     9       6.000000   \n",
       "4                378.432570                     9       0.833333   \n",
       "\n",
       "   player_10_gold_per_minute  player_10vision_score  team_100_won  \n",
       "0                 364.826857                     20             0  \n",
       "1                 295.913241                     78             0  \n",
       "2                 278.620869                     20             0  \n",
       "3                 482.514843                     25             0  \n",
       "4                 229.317978                     26             1  \n",
       "\n",
       "[5 rows x 31 columns]"
      ]
     },
     "execution_count": 3,
     "metadata": {},
     "output_type": "execute_result"
    }
   ],
   "source": [
    "df.head()"
   ]
  },
  {
   "cell_type": "code",
   "execution_count": 4,
   "id": "56f2dff5",
   "metadata": {},
   "outputs": [],
   "source": [
    "X = df.drop(columns=['team_100_won'])\n",
    "y = df['team_100_won']"
   ]
  },
  {
   "cell_type": "code",
   "execution_count": 5,
   "id": "4fed9ea4",
   "metadata": {},
   "outputs": [],
   "source": [
    "from sklearn.model_selection import train_test_split\n",
    "from sklearn.ensemble import RandomForestClassifier\n",
    "from sklearn.metrics import accuracy_score"
   ]
  },
  {
   "cell_type": "code",
   "execution_count": 6,
   "id": "0382339b",
   "metadata": {},
   "outputs": [],
   "source": [
    "# Dividir em treino e teste\n",
    "X_train, X_test, y_train, y_test = train_test_split(X, y, test_size=0.2, random_state=42)"
   ]
  },
  {
   "cell_type": "code",
   "execution_count": 7,
   "id": "94194cd4",
   "metadata": {},
   "outputs": [],
   "source": [
    "# Criar o modelo\n",
    "model = RandomForestClassifier(n_estimators=100, random_state=42)"
   ]
  },
  {
   "cell_type": "code",
   "execution_count": 8,
   "id": "81203b21",
   "metadata": {},
   "outputs": [
    {
     "data": {
      "text/plain": [
       "RandomForestClassifier(random_state=42)"
      ]
     },
     "execution_count": 8,
     "metadata": {},
     "output_type": "execute_result"
    }
   ],
   "source": [
    "# Treinar o modelo\n",
    "model.fit(X_train, y_train)"
   ]
  },
  {
   "cell_type": "code",
   "execution_count": 9,
   "id": "7c26ac0e",
   "metadata": {},
   "outputs": [
    {
     "name": "stdout",
     "output_type": "stream",
     "text": [
      "Acurácia: 0.9349794238683128\n"
     ]
    }
   ],
   "source": [
    "# Fazer previsões\n",
    "y_pred = model.predict(X_test)\n",
    "\n",
    "# Avaliar a performance\n",
    "accuracy = accuracy_score(y_test, y_pred)\n",
    "print(f'Acurácia: {accuracy}')"
   ]
  },
  {
   "cell_type": "code",
   "execution_count": 10,
   "id": "21cb3660",
   "metadata": {},
   "outputs": [],
   "source": [
    "import matplotlib.pyplot as plt"
   ]
  },
  {
   "cell_type": "code",
   "execution_count": 15,
   "id": "4f9e0300",
   "metadata": {},
   "outputs": [
    {
     "name": "stdout",
     "output_type": "stream",
     "text": [
      "Predição para a nova entrada: [0]\n"
     ]
    },
    {
     "name": "stderr",
     "output_type": "stream",
     "text": [
      "/usr/local/lib64/python3.7/site-packages/sklearn/base.py:451: UserWarning: X does not have valid feature names, but RandomForestClassifier was fitted with feature names\n",
      "  \"X does not have valid feature names, but\"\n"
     ]
    }
   ],
   "source": [
    "nova_entrada = [\n",
    "[1, 433.30803097675533, 19], [3, 426.58727064897784, 19], [1, 489.9826178896077, 19.25], [2.6666666666666665, 524.2297062100663, 20.0], [3, 326.4970999927794, 39.95], [2.3636363636363638, 471.69953636674893, 4], [2.5, 398.19929456739226, 30.95], [2.75, 476.4634867820679, 27], [3.2046825396825396, 462.6115483421969, 12], [2, 422.936363195574, 21]\n",
    "]\n",
    "\n",
    "# Transformar a entrada em um array unidimensional (como está no seu exemplo original)\n",
    "nova_entrada_unidimensional = [item for sublist in nova_entrada for item in sublist]\n",
    "\n",
    "# Fazer predição com o modelo treinado\n",
    "predicao = model.predict([nova_entrada_unidimensional])\n",
    "print(f'Predição para a nova entrada: {predicao}')"
   ]
  },
  {
   "cell_type": "code",
   "execution_count": 13,
   "id": "db2c3cc7",
   "metadata": {},
   "outputs": [
    {
     "data": {
      "image/png": "[encoded data removed]",
      "text/plain": [
       "<Figure size 640x480 with 2 Axes>"
      ]
     },
     "metadata": {},
     "output_type": "display_data"
    }
   ],
   "source": [
    "from sklearn.metrics import confusion_matrix, ConfusionMatrixDisplay\n",
    "# Calcular a matriz de confusão\n",
    "cm = confusion_matrix(y_test, y_pred)\n",
    "\n",
    "# Exibir a matriz de confusão\n",
    "disp = ConfusionMatrixDisplay(confusion_matrix=cm, display_labels=model.classes_)\n",
    "disp.plot(cmap=plt.cm.Blues)\n",
    "plt.title('Matriz de Confusão')\n",
    "plt.show()"
   ]
  },
  {
   "cell_type": "code",
   "execution_count": 89,
   "id": "167de0f0",
   "metadata": {},
   "outputs": [
    {
     "data": {
      "image/png": "[encoded data removed]",
      "text/plain": [
       "<Figure size 800x600 with 1 Axes>"
      ]
     },
     "metadata": {},
     "output_type": "display_data"
    }
   ],
   "source": [
    "from sklearn.metrics import roc_curve, auc\n",
    "import matplotlib.pyplot as plt\n",
    "\n",
    "# Prever probabilidades no conjunto de teste\n",
    "y_pred_proba = model.predict_proba(X_test)[:, 1]\n",
    "\n",
    "# Calcular a curva ROC\n",
    "fpr, tpr, thresholds = roc_curve(y_test, y_pred_proba)\n",
    "roc_auc = auc(fpr, tpr)\n",
    "\n",
    "# Plotar a curva ROC\n",
    "plt.figure(figsize=(8, 6))\n",
    "plt.plot(fpr, tpr, color='blue', label=f'ROC Curve (AUC = {roc_auc:.2f})')\n",
    "plt.plot([0, 1], [0, 1], color='red', linestyle='--')\n",
    "plt.xlabel('Taxa de Falsos Positivos (FPR)')\n",
    "plt.ylabel('Taxa de Verdadeiros Positivos (TPR)')\n",
    "plt.title('Curva ROC')\n",
    "plt.legend(loc='lower right')\n",
    "plt.show()"
   ]
  }
 ],
 "metadata": {
  "kernelspec": {
   "display_name": "Python 3 (ipykernel)",
   "language": "python",
   "name": "python3"
  },
  "language_info": {
   "codemirror_mode": {
    "name": "ipython",
    "version": 3
   },
   "file_extension": ".py",
   "mimetype": "text/x-python",
   "name": "python",
   "nbconvert_exporter": "python",
   "pygments_lexer": "ipython3",
   "version": "3.7.16"
  }
 },
 "nbformat": 4,
 "nbformat_minor": 5
}
